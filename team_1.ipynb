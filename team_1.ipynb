{
 "cells": [
  {
   "cell_type": "markdown",
   "metadata": {},
   "source": [
    "# Design and AI in the Data Driven World Challenge"
   ]
  },
  {
   "cell_type": "markdown",
   "metadata": {},
   "source": [
    "## Bank Customer Profiling\n",
    "\n",
    "Credit cards has always been a key driver in the payments ecosystem. In order to remain competitive in this landscape, we have to innovate continuously to attract new customers and keeping existing customers engaged. \n",
    "\n",
    "Looking ahead, DBS's data analytics department is tasked to analyze and profile its customers and predict future trends on credit card acquisition. In this challenge, you will be working as one of the data analytic team’s task force. You will be required to use this sampled customer profile data to derive new insights on the customer and apply machine learning models to predict the customers who are likely to be interested in a new credit card proposition. In addition, we would also like to hear from you, a simple proposal of how the bank should approach to attract your identified target market.\n",
    "\n",
    "#### Data Schema\n",
    "\n",
    "Below is the schema of the sample customer profile dataset. \n",
    "\n",
    "'Acquire_credit_card_next_month', 'Gender', 'Marital_Status', 'Age', 'Race', 'Address_Type', 'Holding_Paylah!', 'Holding_Unsecured Loan', 'Holding_Secured Loan', 'Holding_Mortgage', 'Holding_Investment', 'Holding_Insurance', 'Holding_Internet Banking', 'Holding_Mobile Banking', 'Monthly_Income', 'Total_Asset', 'BookMusic_Spend', 'Dining_Spend', 'Suppermarket_Spend', 'Travel_Spend', 'Inflow_Transaction_Amount', 'Non_financial_Transaction_Count'\n",
    "\n",
    "- **Acquire_credit_card_next_month**: Indicate if customer get the new credit card next month\n",
    "- **Gender**: Gender of the customer\n",
    "- **Marital_Status**: Marital status of the customer\n",
    "- **Age**: Age of the customer\n",
    "- **Race**: Race of the customer\n",
    "- **Address_Type**: Type of the residence (e.g., HDB)\n",
    "- **Holding_Paylah!**: Indicate if customer uses Paylah!\n",
    "- **Holding_Unsecured Loan**: Indicate if customer has unsecured loan\n",
    "- **Holding_Secured Loan**: Indicate if customer has secured loan\n",
    "- **Holding_Mortgage**: Indicate if customer has mortage\n",
    "- **Holding_Investment**: Indicate if customer has investment\n",
    "- **Holding_Insurance**: Indicate if customer has insurance\n",
    "- **Holding_Internet Banking**: Indicate if customer has Internet banking\n",
    "- **Holding_Mobile Banking**: Indicate if customer has mobile banking\n",
    "- **Monthly_Income**: Monthly income of the customer\n",
    "- **Total_Asset**: Total asset of the customer\n",
    "- **BookMusic_Spend**: Monthly expense on book and music related purchases \n",
    "- **Dining_Spend**: Monthly expense on dining related purchases\n",
    "- **Suppermarket_Spend**: Monthly expense on grocery related purchases\n",
    "- **Travel_Spend**: Monthly expense on travel related purchases\n",
    "- **Inflow_Transaction_Amount**: Amount received from others \n",
    "- **Non_financial_Transaction_Count**: Number of non-financial transactions (e.g., Change address, etc.)\n",
    "\n",
    "\n",
    "## Challenge Tasks\n",
    "\n",
    "#### Exploratory Analysis\n",
    "Your team is expected to conduct exploratory analysis to help DBS gain some new insights on its customers.\n",
    " \n",
    "In your exploratory analysis, please answer the following questions:\n",
    "- Q1: How many customers acquired the new credit card?\n",
    "- Q2: Are customers who uses Paylah! more likely to acquire the new credit card?\n",
    "- Q3: Do customers who acquire the new credit card spend more on dining?\n",
    " \n",
    "Your team should also design **two** other questions to improve our understanding of the DBS customers.\n",
    "\n",
    "#### Machine Learning Classification Task\n",
    "Your team is also tasked to predict if a customer will buy the new financial product. Design a machine learning classification task to achieve this goal and explore various machine learning methods to predict if a customer will buy the new financial product.\n",
    "\n",
    "#### Presentation\n",
    "At the end of this challenge, you will be required to put together a simple presentation to share about:\n",
    "- The approach you have taken for the analysis\n",
    "- The insights you have gathered \n",
    "- Ideas on how to approach/attract this target audience\n",
    "\n",
    "#### Deliverables\n",
    "- **Jupyter Notebook:** Complete this Jupyter Notebook and submit it by 8 Sep 2021, 12pm. Noted that each team will need to submit only one notebook, and the notebook should be renamed with its Team id.\n",
    "- **Presentation:** Create presentation slides to summarize the key insights and machine learning classification task results. The slides will be presented during the presentation sessions.\n",
    "\n",
    "\n",
    "## Judging Criteria\n",
    "- Correctness of the exploratory analysis and machine learning model implementation.\n",
    "- Impact of the insights gathered from the exploratory analysis. \n",
    "- Innovativeness of the machine learning classification task solutions.\n",
    "- Clarity of the presentation\n",
    "\n"
   ]
  },
  {
   "cell_type": "markdown",
   "metadata": {},
   "source": [
    "### Import the necessary libraries"
   ]
  },
  {
   "cell_type": "code",
   "execution_count": 21,
   "metadata": {},
   "outputs": [],
   "source": [
    "# 'Pandas' is used for data manipulation and analysis\n",
    "import pandas as pd \n",
    "\n",
    "# 'Numpy' is used for mathematical operations on large, multi-dimensional arrays and matrices\n",
    "import numpy as np\n",
    "\n",
    "# 'Matplotlib' is a data visualization library for 2D and 3D plots, built on numpy\n",
    "import matplotlib.pyplot as plt\n",
    "\n",
    "# 'Seaborn' is based on matplotlib; used for plotting statistical graphics\n",
    "import seaborn as sns\n"
   ]
  },
  {
   "cell_type": "markdown",
   "metadata": {},
   "source": [
    "### Load the dataset and initial the Panda Dataframe\n",
    "\n",
    "Instantiate a `DataFrame` from an external CSV file. To manipulate data as a `DataFrame`, use `pd.read_csv()` to read the CSV file into a `DataFrame`. Documentation [here](https://pandas.pydata.org/pandas-docs/stable/generated/pandas.read_csv.html#pandas.read_csv). Please take note of the `sep` parameter. This is the separator in the CSV file to be read. In this dataset the `sep` uses the default `,` value and hence is not specified."
   ]
  },
  {
   "cell_type": "code",
   "execution_count": 22,
   "metadata": {},
   "outputs": [],
   "source": [
    "# Loading datasets\n",
    "df=pd.read_csv(\"customer_profile_train.csv\")"
   ]
  },
  {
   "cell_type": "markdown",
   "metadata": {},
   "source": [
    "### Preliminary exploration"
   ]
  },
  {
   "cell_type": "code",
   "execution_count": 23,
   "metadata": {},
   "outputs": [
    {
     "data": {
      "text/plain": [
       "(27470, 22)"
      ]
     },
     "execution_count": 23,
     "metadata": {},
     "output_type": "execute_result"
    }
   ],
   "source": [
    "# Find the no. of rows and columns using df.shape\n",
    "df.shape"
   ]
  },
  {
   "cell_type": "code",
   "execution_count": 24,
   "metadata": {},
   "outputs": [
    {
     "name": "stdout",
     "output_type": "stream",
     "text": [
      "Acquire_credit_card_next_month       int64\n",
      "Gender                              object\n",
      "Marital_Status                      object\n",
      "Age                                  int64\n",
      "Race                                object\n",
      "Address_Type                        object\n",
      "Holding_Paylah!                      int64\n",
      "Holding_Unsecured Loan               int64\n",
      "Holding_Secured Loan                 int64\n",
      "Holding_Mortgage                     int64\n",
      "Holding_Investment                   int64\n",
      "Holding_Insurance                    int64\n",
      "Holding_Internet Banking             int64\n",
      "Holding_Mobile Banking               int64\n",
      "Monthly_Income                     float64\n",
      "Total_Asset                        float64\n",
      "BookMusic_Spend                    float64\n",
      "Dining_Spend                       float64\n",
      "Suppermarket_Spend                 float64\n",
      "Travel_Spend                       float64\n",
      "Inflow_Transaction_Count           float64\n",
      "Non_financial_Transaction_Count    float64\n",
      "dtype: object\n"
     ]
    }
   ],
   "source": [
    "# Check the columns using dtypes\n",
    "print(df.dtypes)"
   ]
  },
  {
   "cell_type": "code",
   "execution_count": 25,
   "metadata": {},
   "outputs": [
    {
     "name": "stdout",
     "output_type": "stream",
     "text": [
      "Index(['Acquire_credit_card_next_month', 'Gender', 'Marital_Status', 'Age',\n",
      "       'Race', 'Address_Type', 'Holding_Paylah!', 'Holding_Unsecured Loan',\n",
      "       'Holding_Secured Loan', 'Holding_Mortgage', 'Holding_Investment',\n",
      "       'Holding_Insurance', 'Holding_Internet Banking',\n",
      "       'Holding_Mobile Banking', 'Monthly_Income', 'Total_Asset',\n",
      "       'BookMusic_Spend', 'Dining_Spend', 'Suppermarket_Spend', 'Travel_Spend',\n",
      "       'Inflow_Transaction_Count', 'Non_financial_Transaction_Count'],\n",
      "      dtype='object')\n"
     ]
    }
   ],
   "source": [
    "# Check the columns using columns\n",
    "print(df.columns)"
   ]
  },
  {
   "cell_type": "code",
   "execution_count": 26,
   "metadata": {},
   "outputs": [
    {
     "data": {
      "text/html": [
       "<div>\n",
       "<style scoped>\n",
       "    .dataframe tbody tr th:only-of-type {\n",
       "        vertical-align: middle;\n",
       "    }\n",
       "\n",
       "    .dataframe tbody tr th {\n",
       "        vertical-align: top;\n",
       "    }\n",
       "\n",
       "    .dataframe thead th {\n",
       "        text-align: right;\n",
       "    }\n",
       "</style>\n",
       "<table border=\"1\" class=\"dataframe\">\n",
       "  <thead>\n",
       "    <tr style=\"text-align: right;\">\n",
       "      <th></th>\n",
       "      <th>Acquire_credit_card_next_month</th>\n",
       "      <th>Gender</th>\n",
       "      <th>Marital_Status</th>\n",
       "      <th>Age</th>\n",
       "      <th>Race</th>\n",
       "      <th>Address_Type</th>\n",
       "      <th>Holding_Paylah!</th>\n",
       "      <th>Holding_Unsecured Loan</th>\n",
       "      <th>Holding_Secured Loan</th>\n",
       "      <th>Holding_Mortgage</th>\n",
       "      <th>...</th>\n",
       "      <th>Holding_Internet Banking</th>\n",
       "      <th>Holding_Mobile Banking</th>\n",
       "      <th>Monthly_Income</th>\n",
       "      <th>Total_Asset</th>\n",
       "      <th>BookMusic_Spend</th>\n",
       "      <th>Dining_Spend</th>\n",
       "      <th>Suppermarket_Spend</th>\n",
       "      <th>Travel_Spend</th>\n",
       "      <th>Inflow_Transaction_Count</th>\n",
       "      <th>Non_financial_Transaction_Count</th>\n",
       "    </tr>\n",
       "  </thead>\n",
       "  <tbody>\n",
       "    <tr>\n",
       "      <th>0</th>\n",
       "      <td>0</td>\n",
       "      <td>F</td>\n",
       "      <td>Single</td>\n",
       "      <td>40</td>\n",
       "      <td>Chinese</td>\n",
       "      <td>HDB</td>\n",
       "      <td>1</td>\n",
       "      <td>0</td>\n",
       "      <td>0</td>\n",
       "      <td>0</td>\n",
       "      <td>...</td>\n",
       "      <td>1</td>\n",
       "      <td>1</td>\n",
       "      <td>1365.769689</td>\n",
       "      <td>179.819485</td>\n",
       "      <td>12.601246</td>\n",
       "      <td>177.834644</td>\n",
       "      <td>352.585105</td>\n",
       "      <td>0.000000</td>\n",
       "      <td>565.172124</td>\n",
       "      <td>0.000000</td>\n",
       "    </tr>\n",
       "    <tr>\n",
       "      <th>1</th>\n",
       "      <td>0</td>\n",
       "      <td>M</td>\n",
       "      <td>Married</td>\n",
       "      <td>33</td>\n",
       "      <td>Others</td>\n",
       "      <td>Private Housing</td>\n",
       "      <td>0</td>\n",
       "      <td>0</td>\n",
       "      <td>0</td>\n",
       "      <td>0</td>\n",
       "      <td>...</td>\n",
       "      <td>0</td>\n",
       "      <td>0</td>\n",
       "      <td>874.688360</td>\n",
       "      <td>98.631407</td>\n",
       "      <td>0.000000</td>\n",
       "      <td>0.000000</td>\n",
       "      <td>92.265637</td>\n",
       "      <td>0.000000</td>\n",
       "      <td>0.000000</td>\n",
       "      <td>0.000000</td>\n",
       "    </tr>\n",
       "    <tr>\n",
       "      <th>2</th>\n",
       "      <td>0</td>\n",
       "      <td>F</td>\n",
       "      <td>Single</td>\n",
       "      <td>25</td>\n",
       "      <td>Others</td>\n",
       "      <td>HDB</td>\n",
       "      <td>1</td>\n",
       "      <td>0</td>\n",
       "      <td>0</td>\n",
       "      <td>0</td>\n",
       "      <td>...</td>\n",
       "      <td>1</td>\n",
       "      <td>1</td>\n",
       "      <td>863.436697</td>\n",
       "      <td>874.077340</td>\n",
       "      <td>153.219656</td>\n",
       "      <td>746.897944</td>\n",
       "      <td>748.075380</td>\n",
       "      <td>150.368768</td>\n",
       "      <td>1634.587066</td>\n",
       "      <td>13.807118</td>\n",
       "    </tr>\n",
       "    <tr>\n",
       "      <th>3</th>\n",
       "      <td>0</td>\n",
       "      <td>F</td>\n",
       "      <td>Married</td>\n",
       "      <td>57</td>\n",
       "      <td>Chinese</td>\n",
       "      <td>HDB</td>\n",
       "      <td>0</td>\n",
       "      <td>0</td>\n",
       "      <td>0</td>\n",
       "      <td>0</td>\n",
       "      <td>...</td>\n",
       "      <td>1</td>\n",
       "      <td>1</td>\n",
       "      <td>2185.624326</td>\n",
       "      <td>29365.331350</td>\n",
       "      <td>0.000000</td>\n",
       "      <td>435.036400</td>\n",
       "      <td>308.913224</td>\n",
       "      <td>0.000000</td>\n",
       "      <td>211.427454</td>\n",
       "      <td>0.921906</td>\n",
       "    </tr>\n",
       "    <tr>\n",
       "      <th>4</th>\n",
       "      <td>0</td>\n",
       "      <td>M</td>\n",
       "      <td>Single</td>\n",
       "      <td>34</td>\n",
       "      <td>Indian</td>\n",
       "      <td>Private Housing</td>\n",
       "      <td>1</td>\n",
       "      <td>0</td>\n",
       "      <td>0</td>\n",
       "      <td>0</td>\n",
       "      <td>...</td>\n",
       "      <td>1</td>\n",
       "      <td>1</td>\n",
       "      <td>6515.854791</td>\n",
       "      <td>11282.379430</td>\n",
       "      <td>26.378702</td>\n",
       "      <td>904.770026</td>\n",
       "      <td>3577.711504</td>\n",
       "      <td>0.000000</td>\n",
       "      <td>998.111605</td>\n",
       "      <td>3.682421</td>\n",
       "    </tr>\n",
       "  </tbody>\n",
       "</table>\n",
       "<p>5 rows × 22 columns</p>\n",
       "</div>"
      ],
      "text/plain": [
       "   Acquire_credit_card_next_month Gender Marital_Status  Age     Race  \\\n",
       "0                               0      F         Single   40  Chinese   \n",
       "1                               0      M        Married   33   Others   \n",
       "2                               0      F         Single   25   Others   \n",
       "3                               0      F        Married   57  Chinese   \n",
       "4                               0      M         Single   34   Indian   \n",
       "\n",
       "      Address_Type  Holding_Paylah!  Holding_Unsecured Loan  \\\n",
       "0              HDB                1                       0   \n",
       "1  Private Housing                0                       0   \n",
       "2              HDB                1                       0   \n",
       "3              HDB                0                       0   \n",
       "4  Private Housing                1                       0   \n",
       "\n",
       "   Holding_Secured Loan  Holding_Mortgage  ...  Holding_Internet Banking  \\\n",
       "0                     0                 0  ...                         1   \n",
       "1                     0                 0  ...                         0   \n",
       "2                     0                 0  ...                         1   \n",
       "3                     0                 0  ...                         1   \n",
       "4                     0                 0  ...                         1   \n",
       "\n",
       "   Holding_Mobile Banking  Monthly_Income   Total_Asset  BookMusic_Spend  \\\n",
       "0                       1     1365.769689    179.819485        12.601246   \n",
       "1                       0      874.688360     98.631407         0.000000   \n",
       "2                       1      863.436697    874.077340       153.219656   \n",
       "3                       1     2185.624326  29365.331350         0.000000   \n",
       "4                       1     6515.854791  11282.379430        26.378702   \n",
       "\n",
       "   Dining_Spend  Suppermarket_Spend  Travel_Spend  Inflow_Transaction_Count  \\\n",
       "0    177.834644          352.585105      0.000000                565.172124   \n",
       "1      0.000000           92.265637      0.000000                  0.000000   \n",
       "2    746.897944          748.075380    150.368768               1634.587066   \n",
       "3    435.036400          308.913224      0.000000                211.427454   \n",
       "4    904.770026         3577.711504      0.000000                998.111605   \n",
       "\n",
       "   Non_financial_Transaction_Count  \n",
       "0                         0.000000  \n",
       "1                         0.000000  \n",
       "2                        13.807118  \n",
       "3                         0.921906  \n",
       "4                         3.682421  \n",
       "\n",
       "[5 rows x 22 columns]"
      ]
     },
     "execution_count": 26,
     "metadata": {},
     "output_type": "execute_result"
    }
   ],
   "source": [
    "# Find the first few records with .head()\n",
    "# Add 10 as parameter in head() to show first 10 records \n",
    "df.head() "
   ]
  },
  {
   "cell_type": "code",
   "execution_count": 27,
   "metadata": {},
   "outputs": [
    {
     "data": {
      "text/html": [
       "<div>\n",
       "<style scoped>\n",
       "    .dataframe tbody tr th:only-of-type {\n",
       "        vertical-align: middle;\n",
       "    }\n",
       "\n",
       "    .dataframe tbody tr th {\n",
       "        vertical-align: top;\n",
       "    }\n",
       "\n",
       "    .dataframe thead th {\n",
       "        text-align: right;\n",
       "    }\n",
       "</style>\n",
       "<table border=\"1\" class=\"dataframe\">\n",
       "  <thead>\n",
       "    <tr style=\"text-align: right;\">\n",
       "      <th></th>\n",
       "      <th>Acquire_credit_card_next_month</th>\n",
       "      <th>Gender</th>\n",
       "      <th>Marital_Status</th>\n",
       "      <th>Age</th>\n",
       "      <th>Race</th>\n",
       "      <th>Address_Type</th>\n",
       "      <th>Holding_Paylah!</th>\n",
       "      <th>Holding_Unsecured Loan</th>\n",
       "      <th>Holding_Secured Loan</th>\n",
       "      <th>Holding_Mortgage</th>\n",
       "      <th>...</th>\n",
       "      <th>Holding_Internet Banking</th>\n",
       "      <th>Holding_Mobile Banking</th>\n",
       "      <th>Monthly_Income</th>\n",
       "      <th>Total_Asset</th>\n",
       "      <th>BookMusic_Spend</th>\n",
       "      <th>Dining_Spend</th>\n",
       "      <th>Suppermarket_Spend</th>\n",
       "      <th>Travel_Spend</th>\n",
       "      <th>Inflow_Transaction_Count</th>\n",
       "      <th>Non_financial_Transaction_Count</th>\n",
       "    </tr>\n",
       "  </thead>\n",
       "  <tbody>\n",
       "    <tr>\n",
       "      <th>25097</th>\n",
       "      <td>1</td>\n",
       "      <td>F</td>\n",
       "      <td>Married</td>\n",
       "      <td>34</td>\n",
       "      <td>Chinese</td>\n",
       "      <td>Private Housing</td>\n",
       "      <td>1</td>\n",
       "      <td>0</td>\n",
       "      <td>0</td>\n",
       "      <td>0</td>\n",
       "      <td>...</td>\n",
       "      <td>1</td>\n",
       "      <td>1</td>\n",
       "      <td>3152.045237</td>\n",
       "      <td>40503.74367</td>\n",
       "      <td>0.0</td>\n",
       "      <td>621.18836</td>\n",
       "      <td>780.29767</td>\n",
       "      <td>186.214447</td>\n",
       "      <td>117.408906</td>\n",
       "      <td>7.585556</td>\n",
       "    </tr>\n",
       "  </tbody>\n",
       "</table>\n",
       "<p>1 rows × 22 columns</p>\n",
       "</div>"
      ],
      "text/plain": [
       "       Acquire_credit_card_next_month Gender Marital_Status  Age     Race  \\\n",
       "25097                               1      F        Married   34  Chinese   \n",
       "\n",
       "          Address_Type  Holding_Paylah!  Holding_Unsecured Loan  \\\n",
       "25097  Private Housing                1                       0   \n",
       "\n",
       "       Holding_Secured Loan  Holding_Mortgage  ...  Holding_Internet Banking  \\\n",
       "25097                     0                 0  ...                         1   \n",
       "\n",
       "       Holding_Mobile Banking  Monthly_Income  Total_Asset  BookMusic_Spend  \\\n",
       "25097                       1     3152.045237  40503.74367              0.0   \n",
       "\n",
       "       Dining_Spend  Suppermarket_Spend  Travel_Spend  \\\n",
       "25097     621.18836           780.29767    186.214447   \n",
       "\n",
       "       Inflow_Transaction_Count  Non_financial_Transaction_Count  \n",
       "25097                117.408906                         7.585556  \n",
       "\n",
       "[1 rows x 22 columns]"
      ]
     },
     "execution_count": 27,
     "metadata": {},
     "output_type": "execute_result"
    }
   ],
   "source": [
    "# Randomly sample (without replacement) with .sample()\n",
    "# Add 8 as parameter to sample 8 records e.g. df.sample(8)\n",
    "df.sample()"
   ]
  },
  {
   "cell_type": "markdown",
   "metadata": {},
   "source": [
    "## Q1: How many customers acquired the new credit card?"
   ]
  },
  {
   "cell_type": "code",
   "execution_count": 28,
   "metadata": {},
   "outputs": [
    {
     "name": "stderr",
     "output_type": "stream",
     "text": [
      "/Users/xenialu/opt/anaconda3/lib/python3.8/site-packages/seaborn/_decorators.py:36: FutureWarning: Pass the following variable as a keyword arg: x. From version 0.12, the only valid positional argument will be `data`, and passing other arguments without an explicit keyword will result in an error or misinterpretation.\n",
      "  warnings.warn(\n"
     ]
    },
    {
     "data": {
      "image/png": "[encoded data removed]",
      "text/plain": [
       "<Figure size 432x288 with 1 Axes>"
      ]
     },
     "metadata": {
      "needs_background": "light"
     },
     "output_type": "display_data"
    }
   ],
   "source": [
    "# Visualize the credit card distribution (Bar)\n",
    "sns.countplot(df['Acquire_credit_card_next_month'],palette='rainbow')\n",
    "plt.title(\"Countplot of the Acquire_credit_card_next_month column\")\n",
    "plt.show()"
   ]
  },
  {
   "cell_type": "raw",
   "metadata": {},
   "source": [
    "1. Majority (approximately 25049) of the customers did not acquired the new card based on the past data. Only about 2000 customers acquired the new card. Generally, this data indicates that only a minority of the customers are likely to purchase a new card. Therefore, it is crucial for the publicity (advertisement promoting credit card) to be directed to the ?% of customers who are willing to purchase to ensure efficiency and not annoy the majority who are not willing to purchase."
   ]
  },
  {
   "cell_type": "markdown",
   "metadata": {},
   "source": [
    "## Q2: Are customers who uses Paylah! more likely to acquire the new credit card?"
   ]
  },
  {
   "cell_type": "code",
   "execution_count": 45,
   "metadata": {},
   "outputs": [
    {
     "data": {
      "text/plain": [
       "<AxesSubplot:title={'center':'For customers who already use paylah, will they acquire a new credit card'}, ylabel='count'>"
      ]
     },
     "execution_count": 45,
     "metadata": {},
     "output_type": "execute_result"
    },
    {
     "data": {
      "image/png": "[encoded data removed]",
      "text/plain": [
       "<Figure size 576x720 with 1 Axes>"
      ]
     },
     "metadata": {},
     "output_type": "display_data"
    }
   ],
   "source": [
    "df_paylah = df.copy() \n",
    "df_paylah = df[['Acquire_credit_card_next_month','Holding_Paylah!']] \n",
    "df_if_more_paylah = df_paylah[df_paylah['Holding_Paylah!'] == 1 ] \n",
    "df_more_paylah_pie = df_if_more_paylah.groupby('Acquire_credit_card_next_month').size() .reset_index(name = 'count') \n",
    " \n",
    "df_more_paylah_pie.plot.pie(y = 'count', labels = df_more_paylah_pie['Acquire_credit_card_next_month'] , title = 'For customers who already use paylah, will they acquire a new credit card')\n",
    "\n"
   ]
  },
  {
   "cell_type": "markdown",
   "metadata": {},
   "source": [
    "## Q3: Do customers who bought who acquire the new credit card spend more on dining?"
   ]
  },
  {
   "cell_type": "code",
   "execution_count": 30,
   "metadata": {},
   "outputs": [
    {
     "name": "stdout",
     "output_type": "stream",
     "text": [
      "NewCC:  [1705778.1668785918]\n",
      "OldCC:  [9300321.793066597]\n"
     ]
    },
    {
     "data": {
      "image/png": "[encoded data removed]",
      "text/plain": [
       "<Figure size 432x288 with 1 Axes>"
      ]
     },
     "metadata": {
      "needs_background": "light"
     },
     "output_type": "display_data"
    }
   ],
   "source": [
    "df_dinComp = df.copy()\n",
    "\n",
    "# Retrieve only cust with new cc and get its sum\n",
    "df_NewCC = df_dinComp[df_dinComp['Acquire_credit_card_next_month'] == 1]\n",
    "df_NewCCSum = df_NewCC['Dining_Spend'].sum(axis=0)\n",
    "\n",
    "# Retrieve only cust with no new cc and get its sum\n",
    "df_OldCC = df_dinComp[df_dinComp['Acquire_credit_card_next_month'] == 0]\n",
    "df_OldCCSum = df_OldCC['Dining_Spend'].sum(axis=0)\n",
    "\n",
    "\n",
    "#X = ['NewCC','OldCC']\n",
    "X = ['']\n",
    "NewCC = [df_NewCCSum]\n",
    "OldCC = [df_OldCCSum]\n",
    "print(\"NewCC: \",NewCC)\n",
    "print(\"OldCC: \",OldCC)\n",
    "X_axis = np.arange(len(X))\n",
    "  \n",
    "plt.bar(X_axis - 0.2, NewCC, 0.4, label = 'NewCC')\n",
    "plt.bar(X_axis + 0.2, OldCC, 0.4, label = 'OldCC')\n",
    "  \n",
    "plt.xticks(X_axis, X)\n",
    "plt.xlabel(\"Groups\")\n",
    "plt.ylabel(\"Amount\")\n",
    "plt.title(\"Total dinning expenditure by acquisition of CC\")\n",
    "plt.legend()\n",
    "plt.show()"
   ]
  },
  {
   "cell_type": "markdown",
   "metadata": {},
   "source": [
    "## Q4: What is the age distribution for customers acquiring a new credit card?"
   ]
  },
  {
   "cell_type": "code",
   "execution_count": 31,
   "metadata": {},
   "outputs": [
    {
     "name": "stderr",
     "output_type": "stream",
     "text": [
      "/Users/xenialu/opt/anaconda3/lib/python3.8/site-packages/seaborn/_decorators.py:36: FutureWarning: Pass the following variable as a keyword arg: x. From version 0.12, the only valid positional argument will be `data`, and passing other arguments without an explicit keyword will result in an error or misinterpretation.\n",
      "  warnings.warn(\n"
     ]
    },
    {
     "data": {
      "image/png": "[encoded data removed]",
      "text/plain": [
       "<Figure size 1440x720 with 1 Axes>"
      ]
     },
     "metadata": {
      "needs_background": "light"
     },
     "output_type": "display_data"
    }
   ],
   "source": [
    "df_age = df.copy()\n",
    "\n",
    "df_age = df_age[['Acquire_credit_card_next_month', 'Age']]\n",
    "\n",
    "df_age = df_age[df_age['Acquire_credit_card_next_month'] == 0]\n",
    "\n",
    "plt.figure(figsize=(20,10))\n",
    "sns.countplot(df_age['Age'])\n",
    "plt.title('Age destribution for customers who are acquiring new credit card')\n",
    "plt.show()"
   ]
  },
  {
   "cell_type": "markdown",
   "metadata": {},
   "source": [
    "## Q5: What is the spending pattern of the customers who is 25-31 year of age?"
   ]
  },
  {
   "cell_type": "code",
   "execution_count": 32,
   "metadata": {},
   "outputs": [
    {
     "data": {
      "image/png": "[encoded data removed]",
      "text/plain": [
       "<Figure size 1440x720 with 1 Axes>"
      ]
     },
     "metadata": {
      "needs_background": "light"
     },
     "output_type": "display_data"
    }
   ],
   "source": [
    "df_workingadults = df.copy() \n",
    " \n",
    "df_workingadults = df_workingadults[['Acquire_credit_card_next_month', 'Age', 'BookMusic_Spend', 'Dining_Spend', 'Suppermarket_Spend', 'Travel_Spend']] \n",
    "df_workingadults = df_workingadults[df_workingadults['Acquire_credit_card_next_month'] == 0] \n",
    "df_workingadults = df_workingadults[df_workingadults['Age'] >= 21 ] \n",
    "df_workingadults = df_workingadults[df_workingadults['Age'] <= 33 ] \n",
    " \n",
    "df_workingadults.loc['Total',:]= df_workingadults.sum(axis=0) \n",
    " \n",
    "df_workingadults = df_workingadults[['BookMusic_Spend', 'Dining_Spend', 'Suppermarket_Spend', 'Travel_Spend']] \n",
    " \n",
    "BookMusic_Spend = 244722.289163 \n",
    "Dining_Spend = 5.422410e+06  \n",
    "Suppermarket_Spend=   3.188666e+06 \n",
    "Travel_Spend =  478673.184672 \n",
    "# Libraries \n",
    "\n",
    "import numpy as np \n",
    "import matplotlib.pyplot as plt \n",
    "\n",
    "\n",
    "\n",
    "height = [244722.289163, 5.422410e+06 , 3.188666e+06, 478673.184672] \n",
    "bars = ('BookMusic_Spend', 'Dining_Spend', 'Suppermarket_Spend', 'Travel_Spend',) \n",
    "y_pos = np.arange(len(bars)) \n",
    "\n",
    "c = ['red', 'yellow','black', 'orange']\n",
    "\n",
    " \n",
    "# Create bars \n",
    "plt.figure(figsize=(20,10))\n",
    "plt.bar(y_pos, height,color=c) \n",
    " \n",
    "# Create names on the x-axis \n",
    "plt.xticks(y_pos, bars) \n",
    "\n",
    "#title \n",
    "plt.title('Spending pattern in age group') \n",
    "# Show graphic \n",
    "plt.show()"
   ]
  },
  {
   "cell_type": "markdown",
   "metadata": {},
   "source": [
    "## Machine Learning Task: Predicting if a customer is likely to buy the new product\n",
    "\n",
    "In this task, we will explore using machine learning models to predict if a customer is likely to buy the new product."
   ]
  },
  {
   "cell_type": "markdown",
   "metadata": {},
   "source": [
    "### Import the sklearn library"
   ]
  },
  {
   "cell_type": "code",
   "execution_count": 33,
   "metadata": {},
   "outputs": [],
   "source": [
    "# import the data processing lib\n",
    "from sklearn.model_selection import train_test_split\n",
    "\n",
    "# for Decision Tree implementation\n",
    "from scipy.stats import entropy\n",
    "from sklearn.tree import DecisionTreeClassifier\n",
    "from sklearn import tree\n",
    "\n",
    "# for KNN implementation\n",
    "from sklearn.neighbors import KNeighborsClassifier\n",
    "\n",
    "# import the evaluation metrics\n",
    "from sklearn.metrics import confusion_matrix\n",
    "from sklearn.metrics import accuracy_score\n",
    "from sklearn.metrics import f1_score"
   ]
  },
  {
   "cell_type": "markdown",
   "metadata": {},
   "source": [
    "### Data preparation\n",
    "We will perform the train-test split on the dataset"
   ]
  },
  {
   "cell_type": "code",
   "execution_count": 34,
   "metadata": {},
   "outputs": [],
   "source": [
    "# Creating two dataframes df_features and df_target. \n",
    "# df_features contains all the important features which we use in our prediction\n",
    "# df_target which contains the target variable\n",
    "\n",
    "df_target = df['Acquire_credit_card_next_month']\n",
    "df_features = df.drop(['Acquire_credit_card_next_month'],axis=1)"
   ]
  },
  {
   "cell_type": "code",
   "execution_count": 35,
   "metadata": {},
   "outputs": [],
   "source": [
    "# Dummy encoding the feature(categorical) variables\n",
    "df_dummy=pd.get_dummies(df_features,drop_first=True)"
   ]
  },
  {
   "cell_type": "code",
   "execution_count": 36,
   "metadata": {},
   "outputs": [],
   "source": [
    "# Storing the features in X and the target in y variable\n",
    "X = df_dummy\n",
    "y = pd.DataFrame(df_target)"
   ]
  },
  {
   "cell_type": "code",
   "execution_count": 37,
   "metadata": {},
   "outputs": [
    {
     "name": "stdout",
     "output_type": "stream",
     "text": [
      "X_train (21976, 33)\n",
      "y_train (21976, 1)\n",
      "X_valid (5494, 33)\n",
      "y_valid (5494, 1)\n"
     ]
    }
   ],
   "source": [
    "# Split data into train subset and validation subset\n",
    "X_train, X_valid, y_train, y_valid = train_test_split(X, y, stratify=y, test_size = 0.20)\n",
    "\n",
    "# Check the dimensions of the train & test subset using 'shape'\n",
    "# print dimension of train set\n",
    "print(\"X_train\",X_train.shape)\n",
    "print(\"y_train\",y_train.shape)\n",
    "\n",
    "# Print dimension of validation set\n",
    "print(\"X_valid\",X_valid.shape)\n",
    "print(\"y_valid\",y_valid.shape)"
   ]
  },
  {
   "cell_type": "markdown",
   "metadata": {},
   "source": [
    "# Training ML"
   ]
  },
  {
   "cell_type": "code",
   "execution_count": 38,
   "metadata": {},
   "outputs": [
    {
     "name": "stdout",
     "output_type": "stream",
     "text": [
      "0.8370950127411722\n"
     ]
    }
   ],
   "source": [
    "# Decision tree\n",
    "dtree = DecisionTreeClassifier(criterion=\"entropy\")\n",
    "dtree.fit(X_train, y_train)\n",
    "\n",
    "# Test the DT classifier\n",
    "y_pred = dtree.predict(X_valid)\n",
    "\n",
    "# Displaying accuracy\n",
    "asr = accuracy_score(y_pred, y_valid)\n",
    "print(asr)"
   ]
  },
  {
   "cell_type": "code",
   "execution_count": 39,
   "metadata": {},
   "outputs": [
    {
     "name": "stderr",
     "output_type": "stream",
     "text": [
      "/Users/xenialu/opt/anaconda3/lib/python3.8/site-packages/sklearn/neighbors/_classification.py:179: DataConversionWarning: A column-vector y was passed when a 1d array was expected. Please change the shape of y to (n_samples,), for example using ravel().\n",
      "  return self._fit(X, y)\n"
     ]
    },
    {
     "name": "stdout",
     "output_type": "stream",
     "text": [
      "0.8849654168183473\n"
     ]
    }
   ],
   "source": [
    "# KNN\n",
    "knn = KNeighborsClassifier(n_neighbors=3)\n",
    "knn.fit(X_train,y_train)\n",
    "\n",
    "# Test the kNN classifier\n",
    "y_pred = knn.predict(X_valid)\n",
    "\n",
    "# Find the accuracy score of the result\n",
    "asr = accuracy_score(y_pred, y_valid)\n",
    "print(asr)"
   ]
  },
  {
   "cell_type": "markdown",
   "metadata": {},
   "source": [
    "# feature importance check"
   ]
  },
  {
   "cell_type": "code",
   "execution_count": 40,
   "metadata": {},
   "outputs": [
    {
     "data": {
      "text/html": [
       "<div>\n",
       "<style scoped>\n",
       "    .dataframe tbody tr th:only-of-type {\n",
       "        vertical-align: middle;\n",
       "    }\n",
       "\n",
       "    .dataframe tbody tr th {\n",
       "        vertical-align: top;\n",
       "    }\n",
       "\n",
       "    .dataframe thead th {\n",
       "        text-align: right;\n",
       "    }\n",
       "</style>\n",
       "<table border=\"1\" class=\"dataframe\">\n",
       "  <thead>\n",
       "    <tr style=\"text-align: right;\">\n",
       "      <th></th>\n",
       "      <th>feature</th>\n",
       "      <th>importance</th>\n",
       "    </tr>\n",
       "  </thead>\n",
       "  <tbody>\n",
       "    <tr>\n",
       "      <th>9</th>\n",
       "      <td>Monthly_Income</td>\n",
       "      <td>0.196359</td>\n",
       "    </tr>\n",
       "    <tr>\n",
       "      <th>10</th>\n",
       "      <td>Total_Asset</td>\n",
       "      <td>0.114482</td>\n",
       "    </tr>\n",
       "    <tr>\n",
       "      <th>15</th>\n",
       "      <td>Inflow_Transaction_Count</td>\n",
       "      <td>0.110661</td>\n",
       "    </tr>\n",
       "    <tr>\n",
       "      <th>12</th>\n",
       "      <td>Dining_Spend</td>\n",
       "      <td>0.100377</td>\n",
       "    </tr>\n",
       "    <tr>\n",
       "      <th>16</th>\n",
       "      <td>Non_financial_Transaction_Count</td>\n",
       "      <td>0.086226</td>\n",
       "    </tr>\n",
       "    <tr>\n",
       "      <th>13</th>\n",
       "      <td>Suppermarket_Spend</td>\n",
       "      <td>0.084368</td>\n",
       "    </tr>\n",
       "    <tr>\n",
       "      <th>0</th>\n",
       "      <td>Age</td>\n",
       "      <td>0.077797</td>\n",
       "    </tr>\n",
       "    <tr>\n",
       "      <th>1</th>\n",
       "      <td>Holding_Paylah!</td>\n",
       "      <td>0.044614</td>\n",
       "    </tr>\n",
       "    <tr>\n",
       "      <th>11</th>\n",
       "      <td>BookMusic_Spend</td>\n",
       "      <td>0.043349</td>\n",
       "    </tr>\n",
       "    <tr>\n",
       "      <th>14</th>\n",
       "      <td>Travel_Spend</td>\n",
       "      <td>0.020854</td>\n",
       "    </tr>\n",
       "    <tr>\n",
       "      <th>21</th>\n",
       "      <td>Race_Chinese</td>\n",
       "      <td>0.017851</td>\n",
       "    </tr>\n",
       "    <tr>\n",
       "      <th>17</th>\n",
       "      <td>Gender_M</td>\n",
       "      <td>0.014386</td>\n",
       "    </tr>\n",
       "    <tr>\n",
       "      <th>6</th>\n",
       "      <td>Holding_Insurance</td>\n",
       "      <td>0.013432</td>\n",
       "    </tr>\n",
       "    <tr>\n",
       "      <th>19</th>\n",
       "      <td>Marital_Status_Single</td>\n",
       "      <td>0.008265</td>\n",
       "    </tr>\n",
       "    <tr>\n",
       "      <th>31</th>\n",
       "      <td>Address_Type_Private Housing</td>\n",
       "      <td>0.007838</td>\n",
       "    </tr>\n",
       "    <tr>\n",
       "      <th>8</th>\n",
       "      <td>Holding_Mobile Banking</td>\n",
       "      <td>0.007742</td>\n",
       "    </tr>\n",
       "    <tr>\n",
       "      <th>4</th>\n",
       "      <td>Holding_Mortgage</td>\n",
       "      <td>0.007528</td>\n",
       "    </tr>\n",
       "    <tr>\n",
       "      <th>23</th>\n",
       "      <td>Race_Indian</td>\n",
       "      <td>0.005888</td>\n",
       "    </tr>\n",
       "    <tr>\n",
       "      <th>20</th>\n",
       "      <td>Marital_Status_Unknown</td>\n",
       "      <td>0.005724</td>\n",
       "    </tr>\n",
       "    <tr>\n",
       "      <th>28</th>\n",
       "      <td>Address_Type_Other</td>\n",
       "      <td>0.004324</td>\n",
       "    </tr>\n",
       "    <tr>\n",
       "      <th>2</th>\n",
       "      <td>Holding_Unsecured Loan</td>\n",
       "      <td>0.004299</td>\n",
       "    </tr>\n",
       "    <tr>\n",
       "      <th>26</th>\n",
       "      <td>Race_Unknown</td>\n",
       "      <td>0.003766</td>\n",
       "    </tr>\n",
       "    <tr>\n",
       "      <th>32</th>\n",
       "      <td>Address_Type_Unknown</td>\n",
       "      <td>0.003594</td>\n",
       "    </tr>\n",
       "    <tr>\n",
       "      <th>18</th>\n",
       "      <td>Marital_Status_Other</td>\n",
       "      <td>0.003486</td>\n",
       "    </tr>\n",
       "    <tr>\n",
       "      <th>5</th>\n",
       "      <td>Holding_Investment</td>\n",
       "      <td>0.003378</td>\n",
       "    </tr>\n",
       "    <tr>\n",
       "      <th>27</th>\n",
       "      <td>Address_Type_Office Address</td>\n",
       "      <td>0.002141</td>\n",
       "    </tr>\n",
       "    <tr>\n",
       "      <th>3</th>\n",
       "      <td>Holding_Secured Loan</td>\n",
       "      <td>0.001844</td>\n",
       "    </tr>\n",
       "    <tr>\n",
       "      <th>25</th>\n",
       "      <td>Race_Others</td>\n",
       "      <td>0.001732</td>\n",
       "    </tr>\n",
       "    <tr>\n",
       "      <th>24</th>\n",
       "      <td>Race_Malay</td>\n",
       "      <td>0.001611</td>\n",
       "    </tr>\n",
       "    <tr>\n",
       "      <th>7</th>\n",
       "      <td>Holding_Internet Banking</td>\n",
       "      <td>0.001205</td>\n",
       "    </tr>\n",
       "    <tr>\n",
       "      <th>29</th>\n",
       "      <td>Address_Type_Overseas Address</td>\n",
       "      <td>0.000879</td>\n",
       "    </tr>\n",
       "    <tr>\n",
       "      <th>22</th>\n",
       "      <td>Race_Eurasian</td>\n",
       "      <td>0.000000</td>\n",
       "    </tr>\n",
       "    <tr>\n",
       "      <th>30</th>\n",
       "      <td>Address_Type_P.O.Box</td>\n",
       "      <td>0.000000</td>\n",
       "    </tr>\n",
       "  </tbody>\n",
       "</table>\n",
       "</div>"
      ],
      "text/plain": [
       "                            feature  importance\n",
       "9                    Monthly_Income    0.196359\n",
       "10                      Total_Asset    0.114482\n",
       "15         Inflow_Transaction_Count    0.110661\n",
       "12                     Dining_Spend    0.100377\n",
       "16  Non_financial_Transaction_Count    0.086226\n",
       "13               Suppermarket_Spend    0.084368\n",
       "0                               Age    0.077797\n",
       "1                   Holding_Paylah!    0.044614\n",
       "11                  BookMusic_Spend    0.043349\n",
       "14                     Travel_Spend    0.020854\n",
       "21                     Race_Chinese    0.017851\n",
       "17                         Gender_M    0.014386\n",
       "6                 Holding_Insurance    0.013432\n",
       "19            Marital_Status_Single    0.008265\n",
       "31     Address_Type_Private Housing    0.007838\n",
       "8            Holding_Mobile Banking    0.007742\n",
       "4                  Holding_Mortgage    0.007528\n",
       "23                      Race_Indian    0.005888\n",
       "20           Marital_Status_Unknown    0.005724\n",
       "28               Address_Type_Other    0.004324\n",
       "2            Holding_Unsecured Loan    0.004299\n",
       "26                     Race_Unknown    0.003766\n",
       "32             Address_Type_Unknown    0.003594\n",
       "18             Marital_Status_Other    0.003486\n",
       "5                Holding_Investment    0.003378\n",
       "27      Address_Type_Office Address    0.002141\n",
       "3              Holding_Secured Loan    0.001844\n",
       "25                      Race_Others    0.001732\n",
       "24                       Race_Malay    0.001611\n",
       "7          Holding_Internet Banking    0.001205\n",
       "29    Address_Type_Overseas Address    0.000879\n",
       "22                    Race_Eurasian    0.000000\n",
       "30             Address_Type_P.O.Box    0.000000"
      ]
     },
     "execution_count": 40,
     "metadata": {},
     "output_type": "execute_result"
    }
   ],
   "source": [
    "# Decision Tree\n",
    "pd.concat((pd.DataFrame(X_train.columns, columns = ['feature']), \n",
    "           pd.DataFrame(dtree.feature_importances_, columns = ['importance'])), \n",
    "          axis = 1).sort_values(by='importance', ascending = False)"
   ]
  },
  {
   "cell_type": "code",
   "execution_count": 41,
   "metadata": {},
   "outputs": [
    {
     "name": "stderr",
     "output_type": "stream",
     "text": [
      "/Users/xenialu/opt/anaconda3/lib/python3.8/site-packages/sklearn/utils/validation.py:63: DataConversionWarning: A column-vector y was passed when a 1d array was expected. Please change the shape of y to (n_samples, ), for example using ravel().\n",
      "  return f(*args, **kwargs)\n"
     ]
    },
    {
     "name": "stdout",
     "output_type": "stream",
     "text": [
      "Best alpha using built-in LassoCV: 0.641618\n",
      "Best score using built-in LassoCV: 0.053265\n",
      "Lasso picked 5 variables and eliminated the other 28 variables\n"
     ]
    },
    {
     "data": {
      "text/plain": [
       "Text(0.5, 1.0, 'Feature importance using Lasso Model')"
      ]
     },
     "execution_count": 41,
     "metadata": {},
     "output_type": "execute_result"
    },
    {
     "data": {
      "image/png": "[encoded data removed]",
      "text/plain": [
       "<Figure size 576x720 with 1 Axes>"
      ]
     },
     "metadata": {
      "needs_background": "light"
     },
     "output_type": "display_data"
    }
   ],
   "source": [
    "# KNN\n",
    "#importing libraries\n",
    "from sklearn.datasets import load_boston\n",
    "import pandas as pd\n",
    "import numpy as np\n",
    "import matplotlib\n",
    "import matplotlib.pyplot as plt\n",
    "import seaborn as sns\n",
    "import statsmodels.api as sm\n",
    "%matplotlib inline\n",
    "from sklearn.model_selection import train_test_split\n",
    "from sklearn.linear_model import LinearRegression\n",
    "from sklearn.feature_selection import RFE\n",
    "from sklearn.linear_model import RidgeCV, LassoCV, Ridge, Lasso#Loading the dataset\n",
    "\n",
    "reg = LassoCV()\n",
    "reg.fit(X, y)\n",
    "print(\"Best alpha using built-in LassoCV: %f\" % reg.alpha_)\n",
    "print(\"Best score using built-in LassoCV: %f\" %reg.score(X,y))\n",
    "coef = pd.Series(reg.coef_, index = X.columns)\n",
    "\n",
    "print(\"Lasso picked \" + str(sum(coef != 0)) + \" variables and eliminated the other \" +  str(sum(coef == 0)) + \" variables\")\n",
    "\n",
    "imp_coef = coef.sort_values()\n",
    "import matplotlib\n",
    "matplotlib.rcParams['figure.figsize'] = (8.0, 10.0)\n",
    "imp_coef.plot(kind = \"barh\")\n",
    "plt.title(\"Feature importance using Lasso Model\")"
   ]
  },
  {
   "cell_type": "markdown",
   "metadata": {},
   "source": [
    "# hyperparameter tunning"
   ]
  },
  {
   "cell_type": "code",
   "execution_count": 42,
   "metadata": {},
   "outputs": [
    {
     "ename": "NameError",
     "evalue": "name 'GridSearchCV' is not defined",
     "output_type": "error",
     "traceback": [
      "\u001b[0;31m---------------------------------------------------------------------------\u001b[0m",
      "\u001b[0;31mNameError\u001b[0m                                 Traceback (most recent call last)",
      "\u001b[0;32m<ipython-input-42-ec400f9b3ef0>\u001b[0m in \u001b[0;36m<module>\u001b[0;34m\u001b[0m\n\u001b[1;32m      8\u001b[0m               }\n\u001b[1;32m      9\u001b[0m \u001b[0;34m\u001b[0m\u001b[0m\n\u001b[0;32m---> 10\u001b[0;31m \u001b[0mgs\u001b[0m \u001b[0;34m=\u001b[0m \u001b[0mGridSearchCV\u001b[0m\u001b[0;34m(\u001b[0m\u001b[0mestimator\u001b[0m\u001b[0;34m=\u001b[0m\u001b[0mdtree_test\u001b[0m\u001b[0;34m,\u001b[0m \u001b[0mparam_grid\u001b[0m\u001b[0;34m=\u001b[0m\u001b[0mparam_grid\u001b[0m\u001b[0;34m,\u001b[0m \u001b[0mscoring\u001b[0m\u001b[0;34m=\u001b[0m\u001b[0;34m'accuracy'\u001b[0m\u001b[0;34m,\u001b[0m \u001b[0mcv\u001b[0m\u001b[0;34m=\u001b[0m\u001b[0;36m5\u001b[0m\u001b[0;34m,\u001b[0m \u001b[0mn_jobs\u001b[0m\u001b[0;34m=\u001b[0m\u001b[0;34m-\u001b[0m\u001b[0;36m1\u001b[0m\u001b[0;34m)\u001b[0m\u001b[0;34m\u001b[0m\u001b[0;34m\u001b[0m\u001b[0m\n\u001b[0m\u001b[1;32m     11\u001b[0m \u001b[0;34m\u001b[0m\u001b[0m\n\u001b[1;32m     12\u001b[0m \u001b[0mgs\u001b[0m \u001b[0;34m=\u001b[0m \u001b[0mgs\u001b[0m\u001b[0;34m.\u001b[0m\u001b[0mfit\u001b[0m\u001b[0;34m(\u001b[0m\u001b[0mX_train\u001b[0m\u001b[0;34m,\u001b[0m \u001b[0my_train\u001b[0m\u001b[0;34m)\u001b[0m\u001b[0;34m\u001b[0m\u001b[0;34m\u001b[0m\u001b[0m\n",
      "\u001b[0;31mNameError\u001b[0m: name 'GridSearchCV' is not defined"
     ]
    }
   ],
   "source": [
    "# Decision Tree\n",
    "# using gridsearch to improve the accuracy and variance of the model\n",
    "dtree_test = DecisionTreeClassifier(max_features='auto', random_state=4)\n",
    "\n",
    "param_grid = { \"criterion\" : [\"gini\", \"entropy\"], \n",
    "              \"max_depth\": [2, 3, 4, 5, 6, 8, 10], \n",
    "              \"min_samples_leaf\" : [1, 2, 3, 4, 5, 10], \n",
    "              }\n",
    "\n",
    "gs = GridSearchCV(estimator=dtree_test, param_grid=param_grid, scoring='accuracy', cv=5, n_jobs=-1)\n",
    "\n",
    "gs = gs.fit(X_train, y_train)\n",
    "\n",
    "print(gs.best_score_)\n",
    "print(gs.best_params_)"
   ]
  },
  {
   "cell_type": "code",
   "execution_count": null,
   "metadata": {},
   "outputs": [],
   "source": [
    "# KNN\n",
    "\n",
    "param_grid = { \"n_neighbors\" : [3,5,11,19], \n",
    "              \"weights\": [\"uniform\", \"distance\"], \n",
    "              \"metric\" : [\"euclidean\",\"manhattan\"], \n",
    "              }\n",
    "\n",
    "gs = GridSearchCV(\n",
    "    KNeighborsClassifier(),\n",
    "    param_grid,\n",
    "    verbose = 1,\n",
    "    cv = 3,\n",
    "    n_jobs = -1\n",
    ")\n",
    "\n",
    "gs_results = gs.fit(X_train, y_train)\n",
    "\n",
    "print(gs_results.best_score_)\n",
    "print(gs_results.best_estimator_)\n",
    "print(gs_results.best_params_)"
   ]
  },
  {
   "cell_type": "markdown",
   "metadata": {},
   "source": [
    "# Training new models"
   ]
  },
  {
   "cell_type": "code",
   "execution_count": null,
   "metadata": {},
   "outputs": [],
   "source": [
    "# Decision Tree\n",
    "dtree_updated = DecisionTreeClassifier(criterion=\"gini\", max_depth=2, min_samples_leaf=1)\n",
    "dtree_updated.fit(X_train, y_train)\n",
    "\n",
    "# Test the DT classifier\n",
    "y_pred = dtree_updated.predict(X_valid)\n",
    "\n",
    "# Displaying accuracy\n",
    "asr = accuracy_score(y_pred, y_valid)\n",
    "print(asr)\n",
    "\n",
    "# Find the confusion matrix of the result\n",
    "cm = confusion_matrix(y_pred, y_valid)\n",
    "print(cm)\n",
    "\n",
    "# Displaying prediction\n",
    "print(y_pred)"
   ]
  },
  {
   "cell_type": "code",
   "execution_count": null,
   "metadata": {},
   "outputs": [],
   "source": [
    "# KNN\n",
    "knn_updated = KNeighborsClassifier(metric=\"euclidean\", n_neighbors=19, weights=\"uniform\")\n",
    "knn_updated.fit(X_train,y_train)\n",
    "\n",
    "# Test the kNN classifier\n",
    "y_pred = knn_updated.predict(X_valid)\n",
    "\n",
    "# Test the DT classifier\n",
    "y_pred = knn_updated.predict(X_valid)\n",
    "\n",
    "# Displaying accuracy\n",
    "asr = accuracy_score(y_pred, y_valid)\n",
    "print(asr)\n",
    "\n",
    "# Find the confusion matrix of the result\n",
    "cm = confusion_matrix(y_pred, y_valid)\n",
    "print(cm)\n",
    "\n",
    "# Displaying prediction\n",
    "print(y_pred)"
   ]
  },
  {
   "cell_type": "code",
   "execution_count": null,
   "metadata": {},
   "outputs": [],
   "source": []
  }
 ],
 "metadata": {
  "kernelspec": {
   "display_name": "Python 3",
   "language": "python",
   "name": "python3"
  },
  "language_info": {
   "codemirror_mode": {
    "name": "ipython",
    "version": 3
   },
   "file_extension": ".py",
   "mimetype": "text/x-python",
   "name": "python",
   "nbconvert_exporter": "python",
   "pygments_lexer": "ipython3",
   "version": "3.8.8"
  }
 },
 "nbformat": 4,
 "nbformat_minor": 2
}
